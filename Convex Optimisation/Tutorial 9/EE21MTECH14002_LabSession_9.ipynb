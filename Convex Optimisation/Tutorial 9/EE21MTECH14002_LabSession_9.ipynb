{
  "nbformat": 4,
  "nbformat_minor": 0,
  "metadata": {
    "colab": {
      "name": "EE21MTECH14002_LabSession-9.ipynb",
      "provenance": []
    },
    "kernelspec": {
      "name": "python3",
      "display_name": "Python 3"
    },
    "language_info": {
      "name": "python"
    }
  },
  "cells": [
    {
      "cell_type": "markdown",
      "metadata": {
        "id": "vBlxpOF4vk1F"
      },
      "source": [
        "\n",
        "\n",
        " **Roll NO. EE21MTECH14002**\n"
      ]
    },
    {
      "cell_type": "code",
      "metadata": {
        "id": "aRSUTzvzvjNJ"
      },
      "source": [
        "#importing libraries\n",
        "import cvxpy as cp\n",
        "import numpy as np\n",
        "import matplotlib.pyplot as plt"
      ],
      "execution_count": 1,
      "outputs": []
    },
    {
      "cell_type": "code",
      "metadata": {
        "colab": {
          "base_uri": "https://localhost:8080/"
        },
        "id": "VW6M4Urqo8bx",
        "outputId": "92debd23-2099-41d5-e9bc-312716c98418"
      },
      "source": [
        "#data according to our problem\n",
        "#gain matrix G is given\n",
        "Gain_mat = np.array([[1.0,0.1,0.2,0.1,0.0],\n",
        "                [0.1,1.0,0.1,0.1,0.0],\n",
        "                [0.2,0.1,2.0,0.2,0.2],\n",
        "                [0.1,0.1,0.2,1.0,0.1],\n",
        "                [0.0,0.0,0.2,0.1,1.0]])\n",
        "\n",
        "# n transmitters and n recievers we have\n",
        "\n",
        "n,_ = np.shape(Gain_mat)\n",
        "\n",
        "# set maximum power of each transmitter and receiver saturation level\n",
        "P_sat = np.array([3.]*n)\n",
        "P_sat = P_sat.reshape((n,1))\n",
        "\n",
        "# normalised received power, total possible would be all power from all transmitters so 1/n\n",
        "P_received = (np.array([5.,5.,5.,5.,5.]))\n",
        "P_received = P_received.reshape((n,1))\n",
        "P_received_norm=P_received/n #for the sake of normalising\n",
        "\n",
        "\n",
        "# set noise level according to our problem\n",
        "sigma = np.array([0.5,0.5,0.5,0.5,0.5])\n",
        "sigma = sigma.reshape((n,1))\n",
        "\n",
        "# group matrix: number of groups by number of transmitters\n",
        "#Group 1- 1 and 2 \n",
        "#Group 2- 3,4 and 5\n",
        "Groups2 = np.array([[1.,1.,0,0,0],[0,0,1.,1.,1.]])\n",
        "\n",
        "\n",
        "# max normalised power for groups, 4/2 and 6/3\n",
        "Group_max = np.array([[2.0],[2.0]])\n",
        "\n",
        "\n",
        "identity_matrix = np.identity(n)\n",
        "\n",
        "SignalPower = Gain_mat*identity_matrix # signal power matrix\n",
        "\n",
        "Interference = Gain_mat-SignalPower # interference power matrix\n",
        "\n",
        "\n",
        "\n",
        "#number of groups calculated from Groups2\n",
        "number_groups = int(np.size(Groups2,0))\n",
        "\n",
        "\n",
        "# normalising the max power of a group so it is in the range [0,1]\n",
        "Group_normalisation = Groups2/np.sum(Groups2,axis=1).reshape((number_groups,1))\n",
        "\n",
        "# create scalar optimisation variable p: the power of the n transmitters\n",
        "powers = cp.Variable((n,1),name=\"powers\")\n",
        "\n",
        "#linear fractional problem\n",
        "\n",
        "# alpha defines the sub-level sets of the generalised linear fractional problem\n",
        "\n",
        "# in this case α is the reciprocal of the minimum SINR\n",
        "#cvxpy variable declaration\n",
        "alpha = cp.Parameter(shape=1,name=\"alpha value\")\n",
        "\n",
        "# set up the constraints for the bisection feasibility algo test\n",
        "constraints=[]\n",
        "constraints = [Interference*powers + sigma <= alpha*SignalPower*powers]\n",
        "constraints+=[Group_normalisation*powers <= Group_max]\n",
        "constraints+=[Gain_mat*powers <= P_received_norm]\n",
        "constraints+=[powers >= 0]\n",
        "constraints+=[powers <= P_sat]\n",
        "\n",
        "# define objective function, in our case it's constant as only want to test the solution's feasibility\n",
        "\n",
        "#we need to maximize minimum required sinr and alpha is reciprocal of sinr ,so objective will be minimize alpha\n",
        "\n",
        "#objective is\n",
        "objective = cp.Minimize(alpha)\n",
        "\n",
        "#convex problem is\n",
        "\n",
        "prob = cp.Problem(objective, constraints)\n",
        "\n",
        "print(\"Convex optimization problem is:\",prob)\n",
        " "
      ],
      "execution_count": 2,
      "outputs": [
        {
          "output_type": "stream",
          "name": "stdout",
          "text": [
            "Convex optimization problem is: minimize alpha value\n",
            "subject to [[0.  0.1 0.2 0.1 0. ]\n",
            " [0.1 0.  0.1 0.1 0. ]\n",
            " [0.2 0.1 0.  0.2 0.2]\n",
            " [0.1 0.1 0.2 0.  0.1]\n",
            " [0.  0.  0.2 0.1 0. ]] * powers + [[0.5]\n",
            " [0.5]\n",
            " [0.5]\n",
            " [0.5]\n",
            " [0.5]] <= Promote(alpha value, (5, 5)) * [[1. 0. 0. 0. 0.]\n",
            " [0. 1. 0. 0. 0.]\n",
            " [0. 0. 2. 0. 0.]\n",
            " [0. 0. 0. 1. 0.]\n",
            " [0. 0. 0. 0. 1.]] * powers\n",
            "           [[0.5        0.5        0.         0.         0.        ]\n",
            " [0.         0.         0.33333333 0.33333333 0.33333333]] * powers <= [[2.]\n",
            " [2.]]\n",
            "           [[1.  0.1 0.2 0.1 0. ]\n",
            " [0.1 1.  0.1 0.1 0. ]\n",
            " [0.2 0.1 2.  0.2 0.2]\n",
            " [0.1 0.1 0.2 1.  0.1]\n",
            " [0.  0.  0.2 0.1 1. ]] * powers <= [[1.]\n",
            " [1.]\n",
            " [1.]\n",
            " [1.]\n",
            " [1.]]\n",
            "           0.0 <= powers\n",
            "           powers <= [[3.]\n",
            " [3.]\n",
            " [3.]\n",
            " [3.]\n",
            " [3.]]\n"
          ]
        }
      ]
    },
    {
      "cell_type": "code",
      "metadata": {
        "id": "u9IoMR1j6pAT"
      },
      "source": [
        "#Bisection algorithm \n",
        "\n",
        "accuracy_order=0.05 #accuracy order given in question\n",
        "\n",
        "#initialize to 0 to bisection algo solution'\n",
        "\n",
        "best_powers = np.zeros((n))\n",
        "\n",
        "# set upper and lower bounds for sub-level set\n",
        "upper = 1e4\n",
        "lower = 0\n",
        "\n",
        "# Bisection algortithm procedure\n",
        "\n",
        "max_iterations = int(1e7) #maximum iterations taken\n",
        "\n",
        "for i in range(1,max_iterations):\n",
        "# First check that upper is in the feasible domain and lower is not, loop finishes here if this is not the case\n",
        "\n",
        "# set α as the midpoint of the interval\n",
        "   alpha.value = np.atleast_1d((upper + lower)/2.0)\n",
        "\n",
        "# test the size of the interval against the specified tolerance\n",
        "   if upper-lower <= accuracy_order:\n",
        "         break\n",
        "\n",
        "   #solve problem\n",
        "   #solving the problem\n",
        "   try:\n",
        "      prob.solve()\n",
        "   except Exception as e:\n",
        "      print(e)\n",
        "   #print(\"optimal status:\",prob.status)\n",
        "   #print(\"our minimised  objective is:\",prob.solve())\n",
        "\n",
        "   # If the problem is feasible upper will be alpha, if not lower will be alpha , best takes the last feasible value as the optimal one as\n",
        "   # when the tolerance is reached, the new alpha could be out of bounds\n",
        "   if prob.status == 'optimal':\n",
        "         upper = alpha.value\n",
        "         best_powers = powers.value\n",
        "   else:\n",
        "         lower = alpha.value\n",
        "\n",
        "   # final condition to check that the interval has converged to order ε, i.e. the range of the optimal sublevel set is <=ε\n",
        "   if i == (max_iterations-1) and  upper - lower > accuracy_order :\n",
        "          print(\"Solution not converged to given accuracy order \")\n",
        "\n"
      ],
      "execution_count": 3,
      "outputs": []
    },
    {
      "cell_type": "code",
      "metadata": {
        "id": "IxxhPd786wO-",
        "colab": {
          "base_uri": "https://localhost:8080/"
        },
        "outputId": "ebaf4d01-886d-488b-a430-aa9112713fef"
      },
      "source": [
        "#sinr value is\n",
        "#allocating sinr value\n",
        "\n",
        "sinr=1/alpha.value  \n",
        "sinr"
      ],
      "execution_count": 4,
      "outputs": [
        {
          "output_type": "execute_result",
          "data": {
            "text/plain": [
              "array([0.75983768])"
            ]
          },
          "metadata": {},
          "execution_count": 4
        }
      ]
    },
    {
      "cell_type": "code",
      "metadata": {
        "colab": {
          "base_uri": "https://localhost:8080/"
        },
        "id": "kt5INvXI2Y6A",
        "outputId": "a785181b-d1c5-4dfd-f9d3-611a29b5b023"
      },
      "source": [
        "# feasibility of convex problem check\n",
        "prob.status=='optimal'"
      ],
      "execution_count": 5,
      "outputs": [
        {
          "output_type": "execute_result",
          "data": {
            "text/plain": [
              "True"
            ]
          },
          "metadata": {},
          "execution_count": 5
        }
      ]
    },
    {
      "cell_type": "code",
      "metadata": {
        "colab": {
          "base_uri": "https://localhost:8080/"
        },
        "id": "h3dKbevL1tXP",
        "outputId": "de0bd8cd-6aa1-48c0-b273-51875457177c"
      },
      "source": [
        "#displaying all required results\n",
        "\n",
        "print(\"optimized problem status:\",prob.status)\n",
        "print('Maximized Minimum SINR required at reciever is =%0.4g'%(sinr))\n",
        "print(\"powers that maximize minimum sinr required is given by:\")\n",
        "print('Power=%s'%(best_powers))"
      ],
      "execution_count": 6,
      "outputs": [
        {
          "output_type": "stream",
          "name": "stdout",
          "text": [
            "optimized problem status: optimal\n",
            "Maximized Minimum SINR required at reciever is =0.7598\n",
            "powers that maximize minimum sinr required is given by:\n",
            "Power=[[0.51087353]\n",
            " [0.49575705]\n",
            " [0.32202435]\n",
            " [0.54252532]\n",
            " [0.47489048]]\n"
          ]
        }
      ]
    }
  ]
}