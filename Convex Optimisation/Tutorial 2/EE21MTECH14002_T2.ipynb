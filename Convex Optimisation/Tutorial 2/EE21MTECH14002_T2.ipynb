{
  "nbformat": 4,
  "nbformat_minor": 0,
  "metadata": {
    "colab": {
      "name": "EE21MTECH14002_T2.ipynb",
      "provenance": [],
      "collapsed_sections": []
    },
    "kernelspec": {
      "name": "python3",
      "display_name": "Python 3"
    },
    "language_info": {
      "name": "python"
    }
  },
  "cells": [
    {
      "cell_type": "code",
      "execution_count": 10,
      "metadata": {
        "id": "9aexDtmDVdWO"
      },
      "outputs": [],
      "source": [
        "import numpy as np\n",
        "import cvxpy as cp\n",
        "\n",
        "# Exchange rate data.\n",
        "tickers = [\"USD\", \"EUR\", \"GBP\", \"CAD\", \"JPY\", \"CNY\", \"RUB\", \"MXN\", \"INR\", \"BRL\"]\n",
        "n = 10 \n",
        "\n",
        "F = np.zeros((n, n))\n",
        "\n",
        "# USD\n",
        "data = ([1.0, 0.87, 0.76, 1.31, 108.90, 6.72, 65.45, 19.11, 71.13, 3.69],\n",
        "# EUR\n",
        "[1.0, 0.88, 1.51, 125.15, 7.72, 75.23, 21.96, 81.85, 4.24],\n",
        "# GBP\n",
        "[1.0, 1.72, 142.94, 8.82, 85.90, 25.08, 93.50, 4.84],\n",
        "# CAD\n",
        "[1.0, 82.93, 5.11, 49.82, 14.54, 54.23, 2.81],\n",
        "# JPY\n",
        "[1.0, 0.062, 0.60, 0.18, 0.65, 0.034],\n",
        "# CNY\n",
        "[1.0, 9.74, 2.85, 10.61, 0.55],\n",
        "# RUB\n",
        "[1.0, 0.29, 1.09, 0.056],\n",
        "# MXN\n",
        "[1.0, 3.73, 0.19],\n",
        "# INR\n",
        "[1.0, 0.052],\n",
        "# BRL\n",
        "[1.0])\n",
        "for i in range(n):\n",
        "    F[i,i:] = data[i]\n",
        "for j in range(n):\n",
        "    for i in range(j+1,n):\n",
        "        F[i,j] = 1.035/F[j,i]\n",
        "        \n",
        "# Initial and final portfolios.\n",
        "c_req = np.arange(1,n+1)\n",
        "c_req = 1e4*c_req/c_req.sum()\n",
        "c_init = c_req[::-1]\n"
      ]
    },
    {
      "cell_type": "code",
      "source": [
        "X = cp.Variable((n,n))\n",
        "z = (X/F)@np.ones(n) - X.T@np.ones(n) + c_init\n",
        "cost = (c_init - z)@np.sqrt(F[:,0]/F[0,:])\n",
        "problem = cp.Problem(cp.Minimize(cost),[X >= 0,cp.diag(X) == 0,X.T@np.ones(n) <= c_init,z >= c_req])\n",
        "result = problem.solve()\n",
        "print(\" The minimum currency exchange cost is\", result, \" USD\")"
      ],
      "metadata": {
        "colab": {
          "base_uri": "https://localhost:8080/",
          "height": 0
        },
        "id": "dCUwK3_nVuGd",
        "outputId": "cf54b044-3880-4c3e-c844-c5314503c89e"
      },
      "execution_count": 11,
      "outputs": [
        {
          "output_type": "stream",
          "name": "stdout",
          "text": [
            " The minimum currency exchange cost is 7.720059340057958  USD\n"
          ]
        }
      ]
    },
    {
      "cell_type": "markdown",
      "source": [
        "In this given problem we have 10 currencies i.e. \"USD, EUR, GBP, CAD,JPY,CNY,RUB,MXN,INR,BRL\" and **c_int** is a vector that contain the number of units of respective currency our goal is to exchange currency such that after exchange there are at least **c_req** units of respective currency.\n",
        "\n",
        "**X_ij**=\"Exchange currency j into i\"\n",
        "**z**=\"currency holdings after exchange\"\n",
        "\n",
        "These X and z are optimization variables.\n",
        "\n",
        "**Constraints:**\n",
        "\n",
        "                  1. X >= 0 \n",
        "\n",
        "                  2. cp.diag(X) == 0\n",
        "\n",
        "                  3. X.T@np.ones(n) <= c_init\n",
        "                \n",
        "                  4. z >= c_req"
      ],
      "metadata": {
        "id": "pzAYe3kgkz58"
      }
    }
  ]
}