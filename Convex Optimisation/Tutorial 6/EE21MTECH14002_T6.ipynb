{
  "nbformat": 4,
  "nbformat_minor": 0,
  "metadata": {
    "colab": {
      "name": "EE21MTECH14002_T6.ipynb",
      "provenance": [],
      "collapsed_sections": []
    },
    "kernelspec": {
      "name": "python3",
      "display_name": "Python 3"
    },
    "language_info": {
      "name": "python"
    }
  },
  "cells": [
    {
      "cell_type": "code",
      "execution_count": 170,
      "metadata": {
        "id": "gwUcLQMe8Hfz"
      },
      "outputs": [],
      "source": [
        "import cvxpy as cp\n",
        "import numpy as np"
      ]
    },
    {
      "cell_type": "code",
      "source": [
        "#Initializing Given Parameters\n",
        "individual_prod_day=np.array([6000, 5000, 3000]).reshape(3,1)\n",
        "storage_p_unit=np.array([0.040, 0.045, 0.210]).reshape(3,1)\n",
        "min_prod_p_week=np.array([5000,0,4000]).reshape(3,1)\n",
        "profit_p_unit=np.array([4, 6, 10]).reshape(3,1)\n",
        "max_prod_p_week = np.array([10000,15000,8000]).reshape(3,1)\n",
        "individual_profit_day=np.array([4*6000,6*5000, 10*3000])\n",
        "Total_hr=40"
      ],
      "metadata": {
        "id": "IYQKCYe7Pjzy"
      },
      "execution_count": 171,
      "outputs": []
    },
    {
      "cell_type": "code",
      "source": [
        "x=cp.Variable((3,1))\n",
        "s=sum(x)\n"
      ],
      "metadata": {
        "id": "hCqN5AarQmL6"
      },
      "execution_count": 172,
      "outputs": []
    },
    {
      "cell_type": "code",
      "source": [
        "#Total Weekly profit\n",
        "Total_Weekly_Profit=x.T@individual_profit_day*(Total_hr/8)\n",
        "production_p_week =cp.multiply(individual_prod_day,5*x)\n"
      ],
      "metadata": {
        "id": "03LFXIMgQv1N"
      },
      "execution_count": 173,
      "outputs": []
    },
    {
      "cell_type": "code",
      "source": [
        "#Total Weekly Profit\n",
        "print(\"the total profit earned for week is \",Total_Weekly_Profit.value)"
      ],
      "metadata": {
        "colab": {
          "base_uri": "https://localhost:8080/"
        },
        "id": "x821dxKxzK6p",
        "outputId": "03662797-fdb8-4aa0-aaa6-9615b1064af4"
      },
      "execution_count": 174,
      "outputs": [
        {
          "output_type": "stream",
          "name": "stdout",
          "text": [
            "the total profit earned for week is  None\n"
          ]
        }
      ]
    },
    {
      "cell_type": "code",
      "source": [
        "#objective\n",
        "Objective=cp.Maximize(Total_Weekly_Profit)\n",
        "Constraints = [x>=0, s==1, min_prod_p_week<=production_p_week, max_prod_p_week>=production_p_week, storage_p_unit.T@ production_p_week <= 6000]\n"
      ],
      "metadata": {
        "id": "J_scb4kBPkBT"
      },
      "execution_count": 175,
      "outputs": []
    },
    {
      "cell_type": "code",
      "source": [
        "prob = cp.Problem(Objective, Constraints)\n",
        "prob.solve()"
      ],
      "metadata": {
        "id": "ZNhVTM2ZU_NF",
        "colab": {
          "base_uri": "https://localhost:8080/"
        },
        "outputId": "f7a209de-d6a1-4658-f153-a64f9acbed45"
      },
      "execution_count": 176,
      "outputs": [
        {
          "output_type": "execute_result",
          "data": {
            "text/plain": [
              "145000.00000088933"
            ]
          },
          "metadata": {},
          "execution_count": 176
        }
      ]
    },
    {
      "cell_type": "code",
      "source": [
        "print(\"proportion of time devoted each day to iPod cover production\",x[0,0].value)\n",
        "print(\"proportion of time devoted each day to iPhone cover production\",x[1,0].value)\n",
        "print(\"proportion of time devoted each day to iPad cover production\",x[2,0].value)"
      ],
      "metadata": {
        "colab": {
          "base_uri": "https://localhost:8080/"
        },
        "id": "_t_izq97zH6k",
        "outputId": "2168c3be-d79b-4653-c14a-551f7001792e"
      },
      "execution_count": 177,
      "outputs": [
        {
          "output_type": "stream",
          "name": "stdout",
          "text": [
            "proportion of time devoted each day to iPod cover production 0.1666666666389074\n",
            "proportion of time devoted each day to iPhone cover production 0.3072231152749598\n",
            "proportion of time devoted each day to iPad cover production 0.5261102180865097\n"
          ]
        }
      ]
    },
    {
      "cell_type": "code",
      "source": [
        "y=5*cp.multiply(individual_prod_day,x)\n",
        "print(\"number of iPod covers produced over the week\",y[0,0].value)\n",
        "print(\"number of iPhone covers produced over the week\",y[1,0].value)\n",
        "print(\"number of iPad covers produced over the week\",y[2,0].value)"
      ],
      "metadata": {
        "colab": {
          "base_uri": "https://localhost:8080/"
        },
        "id": "Ep47eLr8x4c5",
        "outputId": "f44ae1d8-2394-4282-ad38-c3ba2ff110c8"
      },
      "execution_count": 178,
      "outputs": [
        {
          "output_type": "stream",
          "name": "stdout",
          "text": [
            "number of iPod covers produced over the week 4999.999999167222\n",
            "number of iPhone covers produced over the week 7680.5778818739955\n",
            "number of iPad covers produced over the week 7891.653271297646\n"
          ]
        }
      ]
    },
    {
      "cell_type": "code",
      "source": [
        "z=Total_hr*x\n",
        "print(\"number of hours devoted to the production of iPod smart covers in one week\",z[0,0].value)\n",
        "print(\"number of hours devoted to the production of iPhone smart covers in one week\",z[1,0].value)\n",
        "print(\"number of hours devoted to the production of iPad smart covers in one week\",z[2,0].value)"
      ],
      "metadata": {
        "colab": {
          "base_uri": "https://localhost:8080/"
        },
        "id": "UIB9UXYYx54D",
        "outputId": "869d8837-f93e-459d-e2a2-12a543e5ae75"
      },
      "execution_count": 179,
      "outputs": [
        {
          "output_type": "stream",
          "name": "stdout",
          "text": [
            "number of hours devoted to the production of iPod smart covers in one week 6.666666665556296\n",
            "number of hours devoted to the production of iPhone smart covers in one week 12.288924610998393\n",
            "number of hours devoted to the production of iPad smart covers in one week 21.04440872346039\n"
          ]
        }
      ]
    }
  ]
}