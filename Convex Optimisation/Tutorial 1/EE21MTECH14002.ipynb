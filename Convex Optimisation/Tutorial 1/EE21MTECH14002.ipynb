{
  "nbformat": 4,
  "nbformat_minor": 0,
  "metadata": {
    "colab": {
      "name": "EE21MTECH14002.ipynb",
      "provenance": [],
      "collapsed_sections": []
    },
    "kernelspec": {
      "name": "python3",
      "display_name": "Python 3"
    },
    "language_info": {
      "name": "python"
    }
  },
  "cells": [
    {
      "cell_type": "markdown",
      "source": [
        "## Importing numpy and cvxpy libraries\n"
      ],
      "metadata": {
        "id": "6WU1hCZh_rtx"
      }
    },
    {
      "cell_type": "code",
      "execution_count": 2,
      "metadata": {
        "id": "bN9JAh1Wi6L6"
      },
      "outputs": [],
      "source": [
        "import numpy as np\n",
        "import cvxpy as cp"
      ]
    },
    {
      "cell_type": "code",
      "source": [
        "calories = np.matrix([72, 121, 65])\n",
        "Vitamin = np.matrix([107, 500, 0])\n",
        "cost = np.matrix([0.18, 0.23, 0.05])"
      ],
      "metadata": {
        "id": "s94ZhWV8i7Sr"
      },
      "execution_count": 3,
      "outputs": []
    },
    {
      "cell_type": "code",
      "source": [
        "s=cp.Variable((3,1),integer=True)\n",
        "def Total_Cost(c):\n",
        "  return np.matmul(cost,c)\n",
        "\n",
        "  "
      ],
      "metadata": {
        "id": "mI1O42R6AKWb"
      },
      "execution_count": 4,
      "outputs": []
    },
    {
      "cell_type": "markdown",
      "source": [
        "constructing variable s matrix and total cost function\n",
        "and defining objective function."
      ],
      "metadata": {
        "id": "YMRn0udRA07O"
      }
    },
    {
      "cell_type": "code",
      "source": [
        "objective = cp.Minimize(cp.matmul(cost,s))\n",
        "constnts=[0<=s,10>=s,2000<=cp.matmul(calories,s),2250>=cp.matmul(calories,s),5000<=cp.matmul(Vitamin,s),50000>=cp.matmul(Vitamin,s)]\n",
        "prob = cp.Problem(objective,constnts)\n",
        "prob.solve()\n",
        "print(\"optimal servings:\",s.value)\n",
        "print(\"optimal penalty\",Total_Cost(s.value))"
      ],
      "metadata": {
        "id": "01Tgo0BXG6Al",
        "colab": {
          "base_uri": "https://localhost:8080/"
        },
        "outputId": "2e3196ea-2338-4e39-8ef7-d73aa7ff5558"
      },
      "execution_count": 5,
      "outputs": [
        {
          "output_type": "stream",
          "name": "stdout",
          "text": [
            "optimal servings: [[ 2.]\n",
            " [10.]\n",
            " [10.]]\n",
            "optimal penalty [[3.16]]\n"
          ]
        }
      ]
    }
  ]
}